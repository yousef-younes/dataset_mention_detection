{
 "cells": [
  {
   "cell_type": "code",
   "execution_count": 4,
   "id": "eda64623-e23c-4b91-a714-6739fe689c13",
   "metadata": {},
   "outputs": [
    {
     "data": {
      "text/plain": [
       "94820"
      ]
     },
     "execution_count": 4,
     "metadata": {},
     "output_type": "execute_result"
    }
   ],
   "source": [
    "import pandas as pd\n",
    "\n",
    "\n",
    "path = '~/ICNLSP_paper/data/gsap_new/'\n",
    "new_path = '~/ICNLSP_paper/data/real_data/'\n",
    "\n",
    "# File paths\n",
    "file1 = path+'test.csv'\n",
    "file2 = path+'validation.csv'\n",
    "file3 = path+'train.csv'\n",
    "\n",
    "# Read and concatenate\n",
    "df = pd.concat([pd.read_csv(file1,delimiter='$'), pd.read_csv(file2,delimiter='$'), pd.read_csv(file3,delimiter='$')], ignore_index=True)\n",
    "\n",
    "len(df)"
   ]
  },
  {
   "cell_type": "code",
   "execution_count": 5,
   "id": "719d987f-35b3-4159-82b7-9b9ba5a11519",
   "metadata": {},
   "outputs": [
    {
     "data": {
      "text/plain": [
       "94820"
      ]
     },
     "execution_count": 5,
     "metadata": {},
     "output_type": "execute_result"
    }
   ],
   "source": [
    "df = df[df['section_txt'].notna()]\n",
    "len(df)\n",
    "#test_df = test_df.drop_duplicates(subset=['section_txt','label'])"
   ]
  },
  {
   "cell_type": "code",
   "execution_count": 6,
   "id": "87082e6f-6143-4502-b2fb-8b6c243780c1",
   "metadata": {},
   "outputs": [
    {
     "data": {
      "text/plain": [
       "6873"
      ]
     },
     "execution_count": 6,
     "metadata": {},
     "output_type": "execute_result"
    }
   ],
   "source": [
    "df = df.drop_duplicates(subset=['section_txt','label'])\n",
    "len(df)"
   ]
  },
  {
   "cell_type": "code",
   "execution_count": 7,
   "id": "6305d22f-4665-490c-b7e7-57b0ad7327a4",
   "metadata": {},
   "outputs": [],
   "source": [
    "def get_label_percentage(df, cur_label):\n",
    "    sample_count = df[df['label']==cur_label]\n",
    "    label_percentage = sample_count*100/len(df)\n",
    "    return sample_count, label_percentage"
   ]
  },
  {
   "cell_type": "code",
   "execution_count": 8,
   "id": "f1f00054-eb30-4486-99f8-92ddb637cd5e",
   "metadata": {},
   "outputs": [
    {
     "name": "stdout",
     "output_type": "stream",
     "text": [
      "number of positive samples: 1347\n",
      "percentage of positive samples: 19.598428633784373\n"
     ]
    }
   ],
   "source": [
    "pos_samples = df[df['label']==1]\n",
    "print('number of positive samples: '+str(len(pos_samples)))\n",
    "print(f'percentage of positive samples: {len(pos_samples)*100/6873}')"
   ]
  },
  {
   "cell_type": "code",
   "execution_count": 9,
   "id": "e2f99ca8-fc0c-410a-b7f1-af18a2039313",
   "metadata": {},
   "outputs": [
    {
     "name": "stdout",
     "output_type": "stream",
     "text": [
      "number of negative samples: 5526\n",
      "percentage of positive samples: 80.40157136621562\n"
     ]
    }
   ],
   "source": [
    "neg_samples = df[df['label']==0]\n",
    "num_neg_samples = len(neg_samples)\n",
    "print(f'number of negative samples: {num_neg_samples}')\n",
    "print(f'percentage of positive samples: {num_neg_samples*100/6873}')"
   ]
  },
  {
   "cell_type": "markdown",
   "id": "dfeeac21-c8c7-4394-b50e-e00e68c7165a",
   "metadata": {},
   "source": [
    "The data set contains a total of $6873$ paragraphs. Among them $1347$ are positvie while the remaining $5,526$ are negative. This amounts to $19.6$\\% of positive smaples and \n",
    "$80.4$\\% of negative samples. \n",
    "    \n",
    "Similar to what we have done with the We divide the data into train, dev and test splits haveing $80$\\%, $10$\\%, and $10\\%$ respectively. \n",
    "\n",
    "We divide the "
   ]
  },
  {
   "cell_type": "code",
   "execution_count": 10,
   "id": "9ca9e18d-18f3-4160-ac4b-25c498561327",
   "metadata": {},
   "outputs": [
    {
     "ename": "ModuleNotFoundError",
     "evalue": "No module named 'sklearn'",
     "output_type": "error",
     "traceback": [
      "\u001b[0;31m---------------------------------------------------------------------------\u001b[0m",
      "\u001b[0;31mModuleNotFoundError\u001b[0m                       Traceback (most recent call last)",
      "Cell \u001b[0;32mIn[10], line 2\u001b[0m\n\u001b[1;32m      1\u001b[0m \u001b[38;5;28;01mimport\u001b[39;00m \u001b[38;5;21;01mpandas\u001b[39;00m \u001b[38;5;28;01mas\u001b[39;00m \u001b[38;5;21;01mpd\u001b[39;00m\n\u001b[0;32m----> 2\u001b[0m \u001b[38;5;28;01mfrom\u001b[39;00m \u001b[38;5;21;01msklearn\u001b[39;00m\u001b[38;5;21;01m.\u001b[39;00m\u001b[38;5;21;01mmodel_selection\u001b[39;00m \u001b[38;5;28;01mimport\u001b[39;00m train_test_split\n\u001b[1;32m      4\u001b[0m \u001b[38;5;66;03m# Assuming `df` is the DataFrame from the previous step\u001b[39;00m\n\u001b[1;32m      5\u001b[0m \u001b[38;5;66;03m# Split the DataFrame into 80% training and 20% testing\u001b[39;00m\n\u001b[1;32m      6\u001b[0m train_df, test_df \u001b[38;5;241m=\u001b[39m train_test_split(df, test_size\u001b[38;5;241m=\u001b[39m\u001b[38;5;241m0.2\u001b[39m, random_state\u001b[38;5;241m=\u001b[39m\u001b[38;5;241m42\u001b[39m)\n",
      "\u001b[0;31mModuleNotFoundError\u001b[0m: No module named 'sklearn'"
     ]
    }
   ],
   "source": [
    "import pandas as pd\n",
    "from sklearn.model_selection import train_test_split\n",
    "\n",
    "# Assuming `df` is the DataFrame from the previous step\n",
    "# Split the DataFrame into 80% training and 20% testing\n",
    "train_df, test_df = train_test_split(df, test_size=0.2, random_state=42)\n",
    "\n",
    "#Analyze train and dev splits\n",
    "post_count(get_label_percentage(train_df),1)\n",
    "print(post_count)\n"
   ]
  },
  {
   "cell_type": "code",
   "execution_count": 11,
   "id": "0bdd705c-2789-438b-851f-92919079bc34",
   "metadata": {},
   "outputs": [],
   "source": [
    "import pandas as pd\n",
    "import numpy as np\n",
    "\n",
    "# Assuming `df` is your DataFrame\n",
    "# Shuffle the DataFrame\n",
    "df = df.sample(frac=1, random_state=42).reset_index(drop=True)\n",
    "\n",
    "# Calculate the split index\n",
    "split_index = int(len(df) * 0.8)\n",
    "\n",
    "# Split the DataFrame\n",
    "train_df = df.iloc[:split_index]\n",
    "test_df = df.iloc[split_index:]"
   ]
  },
  {
   "cell_type": "code",
   "execution_count": 12,
   "id": "2142dccd-cd2b-47d7-8321-838c12cded07",
   "metadata": {},
   "outputs": [
    {
     "name": "stdout",
     "output_type": "stream",
     "text": [
      "1080\n",
      "19.6435067297199\n",
      "5498\n"
     ]
    }
   ],
   "source": [
    "len(train_df)\n",
    "pos_para = train_df[train_df['label']==1]\n",
    "pos_percentage = len(pos_para) * 100 / len(train_df)\n",
    "print(len(pos_para))\n",
    "print(pos_percentage)\n",
    "print(len(train_df))"
   ]
  },
  {
   "cell_type": "code",
   "execution_count": 14,
   "id": "64545437-c65a-4358-af27-645839542a16",
   "metadata": {},
   "outputs": [
    {
     "name": "stdout",
     "output_type": "stream",
     "text": [
      "267\n",
      "19.418181818181818\n",
      "1375\n"
     ]
    },
    {
     "data": {
      "text/html": [
       "<div>\n",
       "<style scoped>\n",
       "    .dataframe tbody tr th:only-of-type {\n",
       "        vertical-align: middle;\n",
       "    }\n",
       "\n",
       "    .dataframe tbody tr th {\n",
       "        vertical-align: top;\n",
       "    }\n",
       "\n",
       "    .dataframe thead th {\n",
       "        text-align: right;\n",
       "    }\n",
       "</style>\n",
       "<table border=\"1\" class=\"dataframe\">\n",
       "  <thead>\n",
       "    <tr style=\"text-align: right;\">\n",
       "      <th></th>\n",
       "      <th>id</th>\n",
       "      <th>section_txt</th>\n",
       "      <th>label</th>\n",
       "      <th>dataset</th>\n",
       "    </tr>\n",
       "  </thead>\n",
       "  <tbody>\n",
       "    <tr>\n",
       "      <th>5498</th>\n",
       "      <td>00013_2104_08727.txt|text_unit_8</td>\n",
       "      <td>(Q 1 ) benefit similarly from pre-training? (Q...</td>\n",
       "      <td>0</td>\n",
       "      <td>NaN</td>\n",
       "    </tr>\n",
       "    <tr>\n",
       "      <th>5499</th>\n",
       "      <td>10033_2205_01863.txt|text_unit_13</td>\n",
       "      <td>Next, we briefly introduce the relevant backgr...</td>\n",
       "      <td>0</td>\n",
       "      <td>NaN</td>\n",
       "    </tr>\n",
       "  </tbody>\n",
       "</table>\n",
       "</div>"
      ],
      "text/plain": [
       "                                     id  \\\n",
       "5498   00013_2104_08727.txt|text_unit_8   \n",
       "5499  10033_2205_01863.txt|text_unit_13   \n",
       "\n",
       "                                            section_txt  label dataset  \n",
       "5498  (Q 1 ) benefit similarly from pre-training? (Q...      0     NaN  \n",
       "5499  Next, we briefly introduce the relevant backgr...      0     NaN  "
      ]
     },
     "execution_count": 14,
     "metadata": {},
     "output_type": "execute_result"
    }
   ],
   "source": [
    "len(test_df)\n",
    "pos_para = test_df[test_df['label']==1]\n",
    "pos_percentage = len(pos_para) * 100 / len(test_df)\n",
    "print(len(pos_para))\n",
    "print(pos_percentage)\n",
    "print(len(test_df))\n",
    "test_df.head(2)"
   ]
  },
  {
   "cell_type": "code",
   "execution_count": 44,
   "id": "113853f0-7d0b-430b-a788-15d54ef1f45a",
   "metadata": {},
   "outputs": [
    {
     "name": "stdout",
     "output_type": "stream",
     "text": [
      "Data split and saved successfully.\n"
     ]
    }
   ],
   "source": [
    "# Save the splits into CSV files\n",
    "train_df.to_csv(new_path+'train.csv', sep='$', index=False)  # Save training data\n",
    "test_df.to_csv(new_path+'test.csv', sep='$', index=False)    # Save testing data\n",
    "\n",
    "print(\"Data split and saved successfully.\")"
   ]
  },
  {
   "cell_type": "code",
   "execution_count": 32,
   "id": "0c292336-8da9-471e-ab77-d6cf07f72d8a",
   "metadata": {},
   "outputs": [
    {
     "data": {
      "text/plain": [
       "448"
      ]
     },
     "execution_count": 32,
     "metadata": {},
     "output_type": "execute_result"
    }
   ],
   "source": [
    "df['dataset'].nunique()"
   ]
  },
  {
   "cell_type": "code",
   "execution_count": 33,
   "id": "95e397af-379c-425e-bb1e-bab5c9c47dc6",
   "metadata": {},
   "outputs": [
    {
     "data": {
      "text/plain": [
       "390"
      ]
     },
     "execution_count": 33,
     "metadata": {},
     "output_type": "execute_result"
    }
   ],
   "source": [
    "train_df['dataset'].nunique()"
   ]
  },
  {
   "cell_type": "code",
   "execution_count": 34,
   "id": "c317b003-bb8d-4f7d-8614-3ae1637b9ebc",
   "metadata": {},
   "outputs": [
    {
     "data": {
      "text/plain": [
       "154"
      ]
     },
     "execution_count": 34,
     "metadata": {},
     "output_type": "execute_result"
    }
   ],
   "source": [
    "test_df['dataset'].nunique()"
   ]
  },
  {
   "cell_type": "code",
   "execution_count": 37,
   "id": "f1a6b610-6338-4183-83e8-430dd9185ea2",
   "metadata": {},
   "outputs": [
    {
     "data": {
      "text/plain": [
       "97"
      ]
     },
     "execution_count": 37,
     "metadata": {},
     "output_type": "execute_result"
    }
   ],
   "source": [
    "shared_values = set(train_df['dataset']).intersection(set(test_df['dataset']))\n",
    "len(shared_values)"
   ]
  },
  {
   "cell_type": "code",
   "execution_count": 41,
   "id": "56fdb4ce-36a1-4395-a25e-5f35787559c3",
   "metadata": {},
   "outputs": [],
   "source": [
    "sff = df.drop_duplicates(subset=['dataset'])"
   ]
  },
  {
   "cell_type": "code",
   "execution_count": 42,
   "id": "b0a70457-bfe8-4050-b362-ff7856f0e5a9",
   "metadata": {},
   "outputs": [
    {
     "data": {
      "text/plain": [
       "449"
      ]
     },
     "execution_count": 42,
     "metadata": {},
     "output_type": "execute_result"
    }
   ],
   "source": [
    "len(sff)"
   ]
  },
  {
   "cell_type": "code",
   "execution_count": 43,
   "id": "2507c49d-2990-4901-b9b8-336b2017fa0d",
   "metadata": {},
   "outputs": [
    {
     "data": {
      "text/html": [
       "<div>\n",
       "<style scoped>\n",
       "    .dataframe tbody tr th:only-of-type {\n",
       "        vertical-align: middle;\n",
       "    }\n",
       "\n",
       "    .dataframe tbody tr th {\n",
       "        vertical-align: top;\n",
       "    }\n",
       "\n",
       "    .dataframe thead th {\n",
       "        text-align: right;\n",
       "    }\n",
       "</style>\n",
       "<table border=\"1\" class=\"dataframe\">\n",
       "  <thead>\n",
       "    <tr style=\"text-align: right;\">\n",
       "      <th></th>\n",
       "      <th>id</th>\n",
       "      <th>section_txt</th>\n",
       "      <th>label</th>\n",
       "      <th>dataset</th>\n",
       "    </tr>\n",
       "  </thead>\n",
       "  <tbody>\n",
       "    <tr>\n",
       "      <th>0</th>\n",
       "      <td>10006_2102_07346.txt|text_unit_63</td>\n",
       "      <td>These previous studies have significantly adva...</td>\n",
       "      <td>0</td>\n",
       "      <td>NaN</td>\n",
       "    </tr>\n",
       "    <tr>\n",
       "      <th>3</th>\n",
       "      <td>00030_2107_07653.txt|text_unit_0</td>\n",
       "      <td>Recent progress in language model pre-training...</td>\n",
       "      <td>1</td>\n",
       "      <td>weakly-supervised WikiSQL</td>\n",
       "    </tr>\n",
       "    <tr>\n",
       "      <th>4</th>\n",
       "      <td>10002_2004_03742.txt|text_unit_35</td>\n",
       "      <td>We also find that increasing the constants c a...</td>\n",
       "      <td>1</td>\n",
       "      <td>THUCTC</td>\n",
       "    </tr>\n",
       "    <tr>\n",
       "      <th>13</th>\n",
       "      <td>00046_2105_09680.txt|text_unit_342</td>\n",
       "      <td>We frame KLUE-DP as a sequence tagging problem...</td>\n",
       "      <td>1</td>\n",
       "      <td>KLUE-DP</td>\n",
       "    </tr>\n",
       "    <tr>\n",
       "      <th>22</th>\n",
       "      <td>00004_1908_04913.txt|text_unit_4</td>\n",
       "      <td>To mitigate the race bias in the existing face...</td>\n",
       "      <td>1</td>\n",
       "      <td>YFCC-100M Flickr</td>\n",
       "    </tr>\n",
       "    <tr>\n",
       "      <th>...</th>\n",
       "      <td>...</td>\n",
       "      <td>...</td>\n",
       "      <td>...</td>\n",
       "      <td>...</td>\n",
       "    </tr>\n",
       "    <tr>\n",
       "      <th>6777</th>\n",
       "      <td>00043_1910_10683.txt|text_unit_108</td>\n",
       "      <td>Like the unsupervised objective, the pre-train...</td>\n",
       "      <td>1</td>\n",
       "      <td>pre-training data sets</td>\n",
       "    </tr>\n",
       "    <tr>\n",
       "      <th>6786</th>\n",
       "      <td>00002_1810_04805.txt|text_unit_18</td>\n",
       "      <td>There has also been work showing effective tra...</td>\n",
       "      <td>1</td>\n",
       "      <td>Ima-geNet</td>\n",
       "    </tr>\n",
       "    <tr>\n",
       "      <th>6787</th>\n",
       "      <td>00032_1908_10084.txt|text_unit_39</td>\n",
       "      <td>• CR: Sentiment prediction of customer product...</td>\n",
       "      <td>1</td>\n",
       "      <td>CR</td>\n",
       "    </tr>\n",
       "    <tr>\n",
       "      <th>6792</th>\n",
       "      <td>00046_2105_09680.txt|text_unit_235</td>\n",
       "      <td>The Penn Treebank [84] is a constituency parse...</td>\n",
       "      <td>1</td>\n",
       "      <td>Penn Treebank</td>\n",
       "    </tr>\n",
       "    <tr>\n",
       "      <th>6812</th>\n",
       "      <td>00033_2012_14740.txt|text_unit_2</td>\n",
       "      <td>The recent progress of VrDU lies primarily in ...</td>\n",
       "      <td>1</td>\n",
       "      <td>VrDU</td>\n",
       "    </tr>\n",
       "  </tbody>\n",
       "</table>\n",
       "<p>449 rows × 4 columns</p>\n",
       "</div>"
      ],
      "text/plain": [
       "                                      id  \\\n",
       "0      10006_2102_07346.txt|text_unit_63   \n",
       "3       00030_2107_07653.txt|text_unit_0   \n",
       "4      10002_2004_03742.txt|text_unit_35   \n",
       "13    00046_2105_09680.txt|text_unit_342   \n",
       "22      00004_1908_04913.txt|text_unit_4   \n",
       "...                                  ...   \n",
       "6777  00043_1910_10683.txt|text_unit_108   \n",
       "6786   00002_1810_04805.txt|text_unit_18   \n",
       "6787   00032_1908_10084.txt|text_unit_39   \n",
       "6792  00046_2105_09680.txt|text_unit_235   \n",
       "6812    00033_2012_14740.txt|text_unit_2   \n",
       "\n",
       "                                            section_txt  label  \\\n",
       "0     These previous studies have significantly adva...      0   \n",
       "3     Recent progress in language model pre-training...      1   \n",
       "4     We also find that increasing the constants c a...      1   \n",
       "13    We frame KLUE-DP as a sequence tagging problem...      1   \n",
       "22    To mitigate the race bias in the existing face...      1   \n",
       "...                                                 ...    ...   \n",
       "6777  Like the unsupervised objective, the pre-train...      1   \n",
       "6786  There has also been work showing effective tra...      1   \n",
       "6787  • CR: Sentiment prediction of customer product...      1   \n",
       "6792  The Penn Treebank [84] is a constituency parse...      1   \n",
       "6812  The recent progress of VrDU lies primarily in ...      1   \n",
       "\n",
       "                        dataset  \n",
       "0                           NaN  \n",
       "3     weakly-supervised WikiSQL  \n",
       "4                        THUCTC  \n",
       "13                      KLUE-DP  \n",
       "22             YFCC-100M Flickr  \n",
       "...                         ...  \n",
       "6777     pre-training data sets  \n",
       "6786                  Ima-geNet  \n",
       "6787                         CR  \n",
       "6792              Penn Treebank  \n",
       "6812                       VrDU  \n",
       "\n",
       "[449 rows x 4 columns]"
      ]
     },
     "execution_count": 43,
     "metadata": {},
     "output_type": "execute_result"
    }
   ],
   "source": [
    "sff"
   ]
  },
  {
   "cell_type": "code",
   "execution_count": null,
   "id": "bf624e24-f8d3-4946-8a7a-375a866960b0",
   "metadata": {},
   "outputs": [],
   "source": []
  }
 ],
 "metadata": {
  "kernelspec": {
   "display_name": "Python 3 (ipykernel)",
   "language": "python",
   "name": "python3"
  },
  "language_info": {
   "codemirror_mode": {
    "name": "ipython",
    "version": 3
   },
   "file_extension": ".py",
   "mimetype": "text/x-python",
   "name": "python",
   "nbconvert_exporter": "python",
   "pygments_lexer": "ipython3",
   "version": "3.10.12"
  }
 },
 "nbformat": 4,
 "nbformat_minor": 5
}
